{
 "cells": [
  {
   "cell_type": "code",
   "execution_count": 2,
   "metadata": {},
   "outputs": [],
   "source": [
    "import numpy as np\n",
    "import pandas as pd\n",
    "from pandas import Series, DataFrame\n",
    "from numpy.random import randn"
   ]
  },
  {
   "cell_type": "code",
   "execution_count": 5,
   "metadata": {},
   "outputs": [
    {
     "data": {
      "text/plain": [
       "array([[-2.13761856,  0.20873096,  0.43508448,  2.23205169, -1.79778948],\n",
       "       [ 0.9164022 ,  0.69964308,  0.84551055, -1.10477228, -1.714244  ],\n",
       "       [ 0.19659897,  0.44770499, -0.59803404,  1.44514882, -1.8722504 ],\n",
       "       [ 1.67219491,  0.11194012, -0.15446448, -1.26517733,  0.58182538],\n",
       "       [-2.57401546,  1.13700574, -1.74866897,  1.0594288 ,  1.80503456]])"
      ]
     },
     "execution_count": 5,
     "metadata": {},
     "output_type": "execute_result"
    }
   ],
   "source": [
    "randn(25).reshape((5,5))"
   ]
  },
  {
   "cell_type": "code",
   "execution_count": 7,
   "metadata": {},
   "outputs": [
    {
     "data": {
      "text/html": [
       "<div>\n",
       "<style>\n",
       "    .dataframe thead tr:only-child th {\n",
       "        text-align: right;\n",
       "    }\n",
       "\n",
       "    .dataframe thead th {\n",
       "        text-align: left;\n",
       "    }\n",
       "\n",
       "    .dataframe tbody tr th {\n",
       "        vertical-align: top;\n",
       "    }\n",
       "</style>\n",
       "<table border=\"1\" class=\"dataframe\">\n",
       "  <thead>\n",
       "    <tr style=\"text-align: right;\">\n",
       "      <th></th>\n",
       "      <th>col1</th>\n",
       "      <th>col2</th>\n",
       "      <th>col3</th>\n",
       "      <th>col4</th>\n",
       "      <th>col5</th>\n",
       "    </tr>\n",
       "  </thead>\n",
       "  <tbody>\n",
       "    <tr>\n",
       "      <th>A</th>\n",
       "      <td>0.917564</td>\n",
       "      <td>0.172608</td>\n",
       "      <td>-1.495318</td>\n",
       "      <td>0.123499</td>\n",
       "      <td>-1.173087</td>\n",
       "    </tr>\n",
       "    <tr>\n",
       "      <th>B</th>\n",
       "      <td>0.508116</td>\n",
       "      <td>1.113088</td>\n",
       "      <td>-0.668134</td>\n",
       "      <td>0.828096</td>\n",
       "      <td>0.703752</td>\n",
       "    </tr>\n",
       "    <tr>\n",
       "      <th>C</th>\n",
       "      <td>-2.413800</td>\n",
       "      <td>1.286642</td>\n",
       "      <td>1.233066</td>\n",
       "      <td>-0.616217</td>\n",
       "      <td>0.186943</td>\n",
       "    </tr>\n",
       "    <tr>\n",
       "      <th>D</th>\n",
       "      <td>-0.555447</td>\n",
       "      <td>-0.696406</td>\n",
       "      <td>0.356831</td>\n",
       "      <td>0.847577</td>\n",
       "      <td>0.393020</td>\n",
       "    </tr>\n",
       "    <tr>\n",
       "      <th>E</th>\n",
       "      <td>-0.267670</td>\n",
       "      <td>0.453009</td>\n",
       "      <td>-0.373289</td>\n",
       "      <td>1.438690</td>\n",
       "      <td>-1.380211</td>\n",
       "    </tr>\n",
       "  </tbody>\n",
       "</table>\n",
       "</div>"
      ],
      "text/plain": [
       "       col1      col2      col3      col4      col5\n",
       "A  0.917564  0.172608 -1.495318  0.123499 -1.173087\n",
       "B  0.508116  1.113088 -0.668134  0.828096  0.703752\n",
       "C -2.413800  1.286642  1.233066 -0.616217  0.186943\n",
       "D -0.555447 -0.696406  0.356831  0.847577  0.393020\n",
       "E -0.267670  0.453009 -0.373289  1.438690 -1.380211"
      ]
     },
     "execution_count": 7,
     "metadata": {},
     "output_type": "execute_result"
    }
   ],
   "source": [
    " dframe = DataFrame(randn(25).reshape((5,5)),index=['A','B','C','D','E'],columns=['col1','col2','col3','col4','col5'])\n",
    "dframe"
   ]
  },
  {
   "cell_type": "code",
   "execution_count": 8,
   "metadata": {},
   "outputs": [
    {
     "data": {
      "text/html": [
       "<div>\n",
       "<style>\n",
       "    .dataframe thead tr:only-child th {\n",
       "        text-align: right;\n",
       "    }\n",
       "\n",
       "    .dataframe thead th {\n",
       "        text-align: left;\n",
       "    }\n",
       "\n",
       "    .dataframe tbody tr th {\n",
       "        vertical-align: top;\n",
       "    }\n",
       "</style>\n",
       "<table border=\"1\" class=\"dataframe\">\n",
       "  <thead>\n",
       "    <tr style=\"text-align: right;\">\n",
       "      <th></th>\n",
       "      <th>col1</th>\n",
       "      <th>col2</th>\n",
       "      <th>col3</th>\n",
       "      <th>col4</th>\n",
       "      <th>col5</th>\n",
       "    </tr>\n",
       "  </thead>\n",
       "  <tbody>\n",
       "    <tr>\n",
       "      <th>A</th>\n",
       "      <td>0.917564</td>\n",
       "      <td>0.172608</td>\n",
       "      <td>-1.495318</td>\n",
       "      <td>0.123499</td>\n",
       "      <td>-1.173087</td>\n",
       "    </tr>\n",
       "    <tr>\n",
       "      <th>B</th>\n",
       "      <td>0.508116</td>\n",
       "      <td>1.113088</td>\n",
       "      <td>-0.668134</td>\n",
       "      <td>0.828096</td>\n",
       "      <td>0.703752</td>\n",
       "    </tr>\n",
       "    <tr>\n",
       "      <th>C</th>\n",
       "      <td>-2.413800</td>\n",
       "      <td>1.286642</td>\n",
       "      <td>1.233066</td>\n",
       "      <td>-0.616217</td>\n",
       "      <td>0.186943</td>\n",
       "    </tr>\n",
       "    <tr>\n",
       "      <th>D</th>\n",
       "      <td>-0.555447</td>\n",
       "      <td>-0.696406</td>\n",
       "      <td>0.356831</td>\n",
       "      <td>0.847577</td>\n",
       "      <td>0.393020</td>\n",
       "    </tr>\n",
       "    <tr>\n",
       "      <th>E</th>\n",
       "      <td>-0.267670</td>\n",
       "      <td>0.453009</td>\n",
       "      <td>-0.373289</td>\n",
       "      <td>1.438690</td>\n",
       "      <td>-1.380211</td>\n",
       "    </tr>\n",
       "    <tr>\n",
       "      <th>F</th>\n",
       "      <td>NaN</td>\n",
       "      <td>NaN</td>\n",
       "      <td>NaN</td>\n",
       "      <td>NaN</td>\n",
       "      <td>NaN</td>\n",
       "    </tr>\n",
       "  </tbody>\n",
       "</table>\n",
       "</div>"
      ],
      "text/plain": [
       "       col1      col2      col3      col4      col5\n",
       "A  0.917564  0.172608 -1.495318  0.123499 -1.173087\n",
       "B  0.508116  1.113088 -0.668134  0.828096  0.703752\n",
       "C -2.413800  1.286642  1.233066 -0.616217  0.186943\n",
       "D -0.555447 -0.696406  0.356831  0.847577  0.393020\n",
       "E -0.267670  0.453009 -0.373289  1.438690 -1.380211\n",
       "F       NaN       NaN       NaN       NaN       NaN"
      ]
     },
     "execution_count": 8,
     "metadata": {},
     "output_type": "execute_result"
    }
   ],
   "source": [
    "dframe.reindex(['A','B','C','D','E','F'])"
   ]
  },
  {
   "cell_type": "code",
   "execution_count": 10,
   "metadata": {},
   "outputs": [
    {
     "data": {
      "text/html": [
       "<div>\n",
       "<style>\n",
       "    .dataframe thead tr:only-child th {\n",
       "        text-align: right;\n",
       "    }\n",
       "\n",
       "    .dataframe thead th {\n",
       "        text-align: left;\n",
       "    }\n",
       "\n",
       "    .dataframe tbody tr th {\n",
       "        vertical-align: top;\n",
       "    }\n",
       "</style>\n",
       "<table border=\"1\" class=\"dataframe\">\n",
       "  <thead>\n",
       "    <tr style=\"text-align: right;\">\n",
       "      <th></th>\n",
       "      <th>col1</th>\n",
       "      <th>col2</th>\n",
       "      <th>col3</th>\n",
       "      <th>col4</th>\n",
       "      <th>col5</th>\n",
       "      <th>col6</th>\n",
       "    </tr>\n",
       "  </thead>\n",
       "  <tbody>\n",
       "    <tr>\n",
       "      <th>A</th>\n",
       "      <td>0.917564</td>\n",
       "      <td>0.172608</td>\n",
       "      <td>-1.495318</td>\n",
       "      <td>0.123499</td>\n",
       "      <td>-1.173087</td>\n",
       "      <td>NaN</td>\n",
       "    </tr>\n",
       "    <tr>\n",
       "      <th>B</th>\n",
       "      <td>0.508116</td>\n",
       "      <td>1.113088</td>\n",
       "      <td>-0.668134</td>\n",
       "      <td>0.828096</td>\n",
       "      <td>0.703752</td>\n",
       "      <td>NaN</td>\n",
       "    </tr>\n",
       "    <tr>\n",
       "      <th>C</th>\n",
       "      <td>-2.413800</td>\n",
       "      <td>1.286642</td>\n",
       "      <td>1.233066</td>\n",
       "      <td>-0.616217</td>\n",
       "      <td>0.186943</td>\n",
       "      <td>NaN</td>\n",
       "    </tr>\n",
       "    <tr>\n",
       "      <th>D</th>\n",
       "      <td>-0.555447</td>\n",
       "      <td>-0.696406</td>\n",
       "      <td>0.356831</td>\n",
       "      <td>0.847577</td>\n",
       "      <td>0.393020</td>\n",
       "      <td>NaN</td>\n",
       "    </tr>\n",
       "    <tr>\n",
       "      <th>E</th>\n",
       "      <td>-0.267670</td>\n",
       "      <td>0.453009</td>\n",
       "      <td>-0.373289</td>\n",
       "      <td>1.438690</td>\n",
       "      <td>-1.380211</td>\n",
       "      <td>NaN</td>\n",
       "    </tr>\n",
       "  </tbody>\n",
       "</table>\n",
       "</div>"
      ],
      "text/plain": [
       "       col1      col2      col3      col4      col5  col6\n",
       "A  0.917564  0.172608 -1.495318  0.123499 -1.173087   NaN\n",
       "B  0.508116  1.113088 -0.668134  0.828096  0.703752   NaN\n",
       "C -2.413800  1.286642  1.233066 -0.616217  0.186943   NaN\n",
       "D -0.555447 -0.696406  0.356831  0.847577  0.393020   NaN\n",
       "E -0.267670  0.453009 -0.373289  1.438690 -1.380211   NaN"
      ]
     },
     "execution_count": 10,
     "metadata": {},
     "output_type": "execute_result"
    }
   ],
   "source": [
    "dframe.reindex(columns=['col1','col2','col3','col4','col5','col6'])"
   ]
  },
  {
   "cell_type": "code",
   "execution_count": 11,
   "metadata": {},
   "outputs": [
    {
     "data": {
      "text/html": [
       "<div>\n",
       "<style>\n",
       "    .dataframe thead tr:only-child th {\n",
       "        text-align: right;\n",
       "    }\n",
       "\n",
       "    .dataframe thead th {\n",
       "        text-align: left;\n",
       "    }\n",
       "\n",
       "    .dataframe tbody tr th {\n",
       "        vertical-align: top;\n",
       "    }\n",
       "</style>\n",
       "<table border=\"1\" class=\"dataframe\">\n",
       "  <thead>\n",
       "    <tr style=\"text-align: right;\">\n",
       "      <th></th>\n",
       "      <th>col1</th>\n",
       "      <th>col2</th>\n",
       "      <th>col3</th>\n",
       "      <th>col4</th>\n",
       "      <th>col5</th>\n",
       "    </tr>\n",
       "  </thead>\n",
       "  <tbody>\n",
       "    <tr>\n",
       "      <th>B</th>\n",
       "      <td>0.508116</td>\n",
       "      <td>1.113088</td>\n",
       "      <td>-0.668134</td>\n",
       "      <td>0.828096</td>\n",
       "      <td>0.703752</td>\n",
       "    </tr>\n",
       "    <tr>\n",
       "      <th>C</th>\n",
       "      <td>-2.413800</td>\n",
       "      <td>1.286642</td>\n",
       "      <td>1.233066</td>\n",
       "      <td>-0.616217</td>\n",
       "      <td>0.186943</td>\n",
       "    </tr>\n",
       "    <tr>\n",
       "      <th>D</th>\n",
       "      <td>-0.555447</td>\n",
       "      <td>-0.696406</td>\n",
       "      <td>0.356831</td>\n",
       "      <td>0.847577</td>\n",
       "      <td>0.393020</td>\n",
       "    </tr>\n",
       "    <tr>\n",
       "      <th>E</th>\n",
       "      <td>-0.267670</td>\n",
       "      <td>0.453009</td>\n",
       "      <td>-0.373289</td>\n",
       "      <td>1.438690</td>\n",
       "      <td>-1.380211</td>\n",
       "    </tr>\n",
       "  </tbody>\n",
       "</table>\n",
       "</div>"
      ],
      "text/plain": [
       "       col1      col2      col3      col4      col5\n",
       "B  0.508116  1.113088 -0.668134  0.828096  0.703752\n",
       "C -2.413800  1.286642  1.233066 -0.616217  0.186943\n",
       "D -0.555447 -0.696406  0.356831  0.847577  0.393020\n",
       "E -0.267670  0.453009 -0.373289  1.438690 -1.380211"
      ]
     },
     "execution_count": 11,
     "metadata": {},
     "output_type": "execute_result"
    }
   ],
   "source": [
    "dframe.drop('A')"
   ]
  },
  {
   "cell_type": "code",
   "execution_count": 13,
   "metadata": {},
   "outputs": [
    {
     "data": {
      "text/html": [
       "<div>\n",
       "<style>\n",
       "    .dataframe thead tr:only-child th {\n",
       "        text-align: right;\n",
       "    }\n",
       "\n",
       "    .dataframe thead th {\n",
       "        text-align: left;\n",
       "    }\n",
       "\n",
       "    .dataframe tbody tr th {\n",
       "        vertical-align: top;\n",
       "    }\n",
       "</style>\n",
       "<table border=\"1\" class=\"dataframe\">\n",
       "  <thead>\n",
       "    <tr style=\"text-align: right;\">\n",
       "      <th></th>\n",
       "      <th>col1</th>\n",
       "      <th>col2</th>\n",
       "      <th>col4</th>\n",
       "      <th>col5</th>\n",
       "    </tr>\n",
       "  </thead>\n",
       "  <tbody>\n",
       "    <tr>\n",
       "      <th>A</th>\n",
       "      <td>0.917564</td>\n",
       "      <td>0.172608</td>\n",
       "      <td>0.123499</td>\n",
       "      <td>-1.173087</td>\n",
       "    </tr>\n",
       "    <tr>\n",
       "      <th>B</th>\n",
       "      <td>0.508116</td>\n",
       "      <td>1.113088</td>\n",
       "      <td>0.828096</td>\n",
       "      <td>0.703752</td>\n",
       "    </tr>\n",
       "    <tr>\n",
       "      <th>C</th>\n",
       "      <td>-2.413800</td>\n",
       "      <td>1.286642</td>\n",
       "      <td>-0.616217</td>\n",
       "      <td>0.186943</td>\n",
       "    </tr>\n",
       "    <tr>\n",
       "      <th>D</th>\n",
       "      <td>-0.555447</td>\n",
       "      <td>-0.696406</td>\n",
       "      <td>0.847577</td>\n",
       "      <td>0.393020</td>\n",
       "    </tr>\n",
       "    <tr>\n",
       "      <th>E</th>\n",
       "      <td>-0.267670</td>\n",
       "      <td>0.453009</td>\n",
       "      <td>1.438690</td>\n",
       "      <td>-1.380211</td>\n",
       "    </tr>\n",
       "  </tbody>\n",
       "</table>\n",
       "</div>"
      ],
      "text/plain": [
       "       col1      col2      col4      col5\n",
       "A  0.917564  0.172608  0.123499 -1.173087\n",
       "B  0.508116  1.113088  0.828096  0.703752\n",
       "C -2.413800  1.286642 -0.616217  0.186943\n",
       "D -0.555447 -0.696406  0.847577  0.393020\n",
       "E -0.267670  0.453009  1.438690 -1.380211"
      ]
     },
     "execution_count": 13,
     "metadata": {},
     "output_type": "execute_result"
    }
   ],
   "source": [
    "dframe.drop('col3',axis=1)"
   ]
  },
  {
   "cell_type": "code",
   "execution_count": 14,
   "metadata": {},
   "outputs": [
    {
     "data": {
      "text/html": [
       "<div>\n",
       "<style>\n",
       "    .dataframe thead tr:only-child th {\n",
       "        text-align: right;\n",
       "    }\n",
       "\n",
       "    .dataframe thead th {\n",
       "        text-align: left;\n",
       "    }\n",
       "\n",
       "    .dataframe tbody tr th {\n",
       "        vertical-align: top;\n",
       "    }\n",
       "</style>\n",
       "<table border=\"1\" class=\"dataframe\">\n",
       "  <thead>\n",
       "    <tr style=\"text-align: right;\">\n",
       "      <th></th>\n",
       "      <th>col1</th>\n",
       "      <th>col2</th>\n",
       "      <th>col3</th>\n",
       "      <th>col4</th>\n",
       "      <th>col5</th>\n",
       "    </tr>\n",
       "  </thead>\n",
       "  <tbody>\n",
       "    <tr>\n",
       "      <th>A</th>\n",
       "      <td>0.917564</td>\n",
       "      <td>0.172608</td>\n",
       "      <td>-1.495318</td>\n",
       "      <td>0.123499</td>\n",
       "      <td>-1.173087</td>\n",
       "    </tr>\n",
       "    <tr>\n",
       "      <th>B</th>\n",
       "      <td>0.508116</td>\n",
       "      <td>1.113088</td>\n",
       "      <td>-0.668134</td>\n",
       "      <td>0.828096</td>\n",
       "      <td>0.703752</td>\n",
       "    </tr>\n",
       "    <tr>\n",
       "      <th>C</th>\n",
       "      <td>-2.413800</td>\n",
       "      <td>1.286642</td>\n",
       "      <td>1.233066</td>\n",
       "      <td>-0.616217</td>\n",
       "      <td>0.186943</td>\n",
       "    </tr>\n",
       "  </tbody>\n",
       "</table>\n",
       "</div>"
      ],
      "text/plain": [
       "       col1      col2      col3      col4      col5\n",
       "A  0.917564  0.172608 -1.495318  0.123499 -1.173087\n",
       "B  0.508116  1.113088 -0.668134  0.828096  0.703752\n",
       "C -2.413800  1.286642  1.233066 -0.616217  0.186943"
      ]
     },
     "execution_count": 14,
     "metadata": {},
     "output_type": "execute_result"
    }
   ],
   "source": [
    "dframe[0:3]"
   ]
  },
  {
   "cell_type": "code",
   "execution_count": 16,
   "metadata": {},
   "outputs": [
    {
     "data": {
      "text/html": [
       "<div>\n",
       "<style>\n",
       "    .dataframe thead tr:only-child th {\n",
       "        text-align: right;\n",
       "    }\n",
       "\n",
       "    .dataframe thead th {\n",
       "        text-align: left;\n",
       "    }\n",
       "\n",
       "    .dataframe tbody tr th {\n",
       "        vertical-align: top;\n",
       "    }\n",
       "</style>\n",
       "<table border=\"1\" class=\"dataframe\">\n",
       "  <thead>\n",
       "    <tr style=\"text-align: right;\">\n",
       "      <th></th>\n",
       "      <th>col1</th>\n",
       "      <th>col2</th>\n",
       "    </tr>\n",
       "  </thead>\n",
       "  <tbody>\n",
       "    <tr>\n",
       "      <th>A</th>\n",
       "      <td>0.917564</td>\n",
       "      <td>0.172608</td>\n",
       "    </tr>\n",
       "    <tr>\n",
       "      <th>B</th>\n",
       "      <td>0.508116</td>\n",
       "      <td>1.113088</td>\n",
       "    </tr>\n",
       "    <tr>\n",
       "      <th>C</th>\n",
       "      <td>-2.413800</td>\n",
       "      <td>1.286642</td>\n",
       "    </tr>\n",
       "    <tr>\n",
       "      <th>D</th>\n",
       "      <td>-0.555447</td>\n",
       "      <td>-0.696406</td>\n",
       "    </tr>\n",
       "    <tr>\n",
       "      <th>E</th>\n",
       "      <td>-0.267670</td>\n",
       "      <td>0.453009</td>\n",
       "    </tr>\n",
       "  </tbody>\n",
       "</table>\n",
       "</div>"
      ],
      "text/plain": [
       "       col1      col2\n",
       "A  0.917564  0.172608\n",
       "B  0.508116  1.113088\n",
       "C -2.413800  1.286642\n",
       "D -0.555447 -0.696406\n",
       "E -0.267670  0.453009"
      ]
     },
     "execution_count": 16,
     "metadata": {},
     "output_type": "execute_result"
    }
   ],
   "source": [
    "dframe[['col1','col2']]"
   ]
  },
  {
   "cell_type": "code",
   "execution_count": 17,
   "metadata": {},
   "outputs": [
    {
     "name": "stderr",
     "output_type": "stream",
     "text": [
      "/Users/bkdas/anaconda/lib/python3.6/site-packages/ipykernel_launcher.py:1: DeprecationWarning: \n",
      ".ix is deprecated. Please use\n",
      ".loc for label based indexing or\n",
      ".iloc for positional indexing\n",
      "\n",
      "See the documentation here:\n",
      "http://pandas.pydata.org/pandas-docs/stable/indexing.html#deprecate_ix\n",
      "  \"\"\"Entry point for launching an IPython kernel.\n"
     ]
    },
    {
     "data": {
      "text/plain": [
       "col1    0.917564\n",
       "col2    0.172608\n",
       "col3   -1.495318\n",
       "col4    0.123499\n",
       "col5   -1.173087\n",
       "Name: A, dtype: float64"
      ]
     },
     "execution_count": 17,
     "metadata": {},
     "output_type": "execute_result"
    }
   ],
   "source": [
    "dframe.ix['A']"
   ]
  },
  {
   "cell_type": "code",
   "execution_count": 18,
   "metadata": {},
   "outputs": [
    {
     "data": {
      "text/plain": [
       "col1   -1.811236\n",
       "col2    2.328941\n",
       "col3   -0.946844\n",
       "col4    2.621644\n",
       "col5   -1.269585\n",
       "dtype: float64"
      ]
     },
     "execution_count": 18,
     "metadata": {},
     "output_type": "execute_result"
    }
   ],
   "source": [
    "dframe.sum()"
   ]
  },
  {
   "cell_type": "code",
   "execution_count": 19,
   "metadata": {},
   "outputs": [
    {
     "data": {
      "text/plain": [
       "A   -1.454735\n",
       "B    2.484918\n",
       "C   -0.323366\n",
       "D    0.345576\n",
       "E   -0.129471\n",
       "dtype: float64"
      ]
     },
     "execution_count": 19,
     "metadata": {},
     "output_type": "execute_result"
    }
   ],
   "source": [
    "dframe.sum(axis=1)"
   ]
  },
  {
   "cell_type": "code",
   "execution_count": 21,
   "metadata": {},
   "outputs": [
    {
     "data": {
      "text/plain": [
       "col1    C\n",
       "col2    D\n",
       "col3    A\n",
       "col4    C\n",
       "col5    E\n",
       "dtype: object"
      ]
     },
     "execution_count": 21,
     "metadata": {},
     "output_type": "execute_result"
    }
   ],
   "source": [
    "dframe.idxmin()"
   ]
  },
  {
   "cell_type": "code",
   "execution_count": 22,
   "metadata": {},
   "outputs": [
    {
     "data": {
      "text/html": [
       "<div>\n",
       "<style>\n",
       "    .dataframe thead tr:only-child th {\n",
       "        text-align: right;\n",
       "    }\n",
       "\n",
       "    .dataframe thead th {\n",
       "        text-align: left;\n",
       "    }\n",
       "\n",
       "    .dataframe tbody tr th {\n",
       "        vertical-align: top;\n",
       "    }\n",
       "</style>\n",
       "<table border=\"1\" class=\"dataframe\">\n",
       "  <thead>\n",
       "    <tr style=\"text-align: right;\">\n",
       "      <th></th>\n",
       "      <th>col1</th>\n",
       "      <th>col2</th>\n",
       "      <th>col3</th>\n",
       "      <th>col4</th>\n",
       "      <th>col5</th>\n",
       "    </tr>\n",
       "  </thead>\n",
       "  <tbody>\n",
       "    <tr>\n",
       "      <th>A</th>\n",
       "      <td>0.917564</td>\n",
       "      <td>0.172608</td>\n",
       "      <td>-1.495318</td>\n",
       "      <td>0.123499</td>\n",
       "      <td>-1.173087</td>\n",
       "    </tr>\n",
       "    <tr>\n",
       "      <th>B</th>\n",
       "      <td>1.425680</td>\n",
       "      <td>1.285696</td>\n",
       "      <td>-2.163452</td>\n",
       "      <td>0.951595</td>\n",
       "      <td>-0.469336</td>\n",
       "    </tr>\n",
       "    <tr>\n",
       "      <th>C</th>\n",
       "      <td>-0.988119</td>\n",
       "      <td>2.572338</td>\n",
       "      <td>-0.930386</td>\n",
       "      <td>0.335378</td>\n",
       "      <td>-0.282393</td>\n",
       "    </tr>\n",
       "    <tr>\n",
       "      <th>D</th>\n",
       "      <td>-1.543566</td>\n",
       "      <td>1.875932</td>\n",
       "      <td>-0.573554</td>\n",
       "      <td>1.182954</td>\n",
       "      <td>0.110627</td>\n",
       "    </tr>\n",
       "    <tr>\n",
       "      <th>E</th>\n",
       "      <td>-1.811236</td>\n",
       "      <td>2.328941</td>\n",
       "      <td>-0.946844</td>\n",
       "      <td>2.621644</td>\n",
       "      <td>-1.269585</td>\n",
       "    </tr>\n",
       "  </tbody>\n",
       "</table>\n",
       "</div>"
      ],
      "text/plain": [
       "       col1      col2      col3      col4      col5\n",
       "A  0.917564  0.172608 -1.495318  0.123499 -1.173087\n",
       "B  1.425680  1.285696 -2.163452  0.951595 -0.469336\n",
       "C -0.988119  2.572338 -0.930386  0.335378 -0.282393\n",
       "D -1.543566  1.875932 -0.573554  1.182954  0.110627\n",
       "E -1.811236  2.328941 -0.946844  2.621644 -1.269585"
      ]
     },
     "execution_count": 22,
     "metadata": {},
     "output_type": "execute_result"
    }
   ],
   "source": [
    "dframe.cumsum()"
   ]
  },
  {
   "cell_type": "code",
   "execution_count": 23,
   "metadata": {},
   "outputs": [
    {
     "data": {
      "text/html": [
       "<div>\n",
       "<style>\n",
       "    .dataframe thead tr:only-child th {\n",
       "        text-align: right;\n",
       "    }\n",
       "\n",
       "    .dataframe thead th {\n",
       "        text-align: left;\n",
       "    }\n",
       "\n",
       "    .dataframe tbody tr th {\n",
       "        vertical-align: top;\n",
       "    }\n",
       "</style>\n",
       "<table border=\"1\" class=\"dataframe\">\n",
       "  <thead>\n",
       "    <tr style=\"text-align: right;\">\n",
       "      <th></th>\n",
       "      <th>col1</th>\n",
       "      <th>col2</th>\n",
       "      <th>col3</th>\n",
       "      <th>col4</th>\n",
       "      <th>col5</th>\n",
       "    </tr>\n",
       "  </thead>\n",
       "  <tbody>\n",
       "    <tr>\n",
       "      <th>count</th>\n",
       "      <td>5.000000</td>\n",
       "      <td>5.000000</td>\n",
       "      <td>5.000000</td>\n",
       "      <td>5.000000</td>\n",
       "      <td>5.000000</td>\n",
       "    </tr>\n",
       "    <tr>\n",
       "      <th>mean</th>\n",
       "      <td>-0.362247</td>\n",
       "      <td>0.465788</td>\n",
       "      <td>-0.189369</td>\n",
       "      <td>0.524329</td>\n",
       "      <td>-0.253917</td>\n",
       "    </tr>\n",
       "    <tr>\n",
       "      <th>std</th>\n",
       "      <td>1.289437</td>\n",
       "      <td>0.795237</td>\n",
       "      <td>1.035640</td>\n",
       "      <td>0.789672</td>\n",
       "      <td>0.954388</td>\n",
       "    </tr>\n",
       "    <tr>\n",
       "      <th>min</th>\n",
       "      <td>-2.413800</td>\n",
       "      <td>-0.696406</td>\n",
       "      <td>-1.495318</td>\n",
       "      <td>-0.616217</td>\n",
       "      <td>-1.380211</td>\n",
       "    </tr>\n",
       "    <tr>\n",
       "      <th>25%</th>\n",
       "      <td>-0.555447</td>\n",
       "      <td>0.172608</td>\n",
       "      <td>-0.668134</td>\n",
       "      <td>0.123499</td>\n",
       "      <td>-1.173087</td>\n",
       "    </tr>\n",
       "    <tr>\n",
       "      <th>50%</th>\n",
       "      <td>-0.267670</td>\n",
       "      <td>0.453009</td>\n",
       "      <td>-0.373289</td>\n",
       "      <td>0.828096</td>\n",
       "      <td>0.186943</td>\n",
       "    </tr>\n",
       "    <tr>\n",
       "      <th>75%</th>\n",
       "      <td>0.508116</td>\n",
       "      <td>1.113088</td>\n",
       "      <td>0.356831</td>\n",
       "      <td>0.847577</td>\n",
       "      <td>0.393020</td>\n",
       "    </tr>\n",
       "    <tr>\n",
       "      <th>max</th>\n",
       "      <td>0.917564</td>\n",
       "      <td>1.286642</td>\n",
       "      <td>1.233066</td>\n",
       "      <td>1.438690</td>\n",
       "      <td>0.703752</td>\n",
       "    </tr>\n",
       "  </tbody>\n",
       "</table>\n",
       "</div>"
      ],
      "text/plain": [
       "           col1      col2      col3      col4      col5\n",
       "count  5.000000  5.000000  5.000000  5.000000  5.000000\n",
       "mean  -0.362247  0.465788 -0.189369  0.524329 -0.253917\n",
       "std    1.289437  0.795237  1.035640  0.789672  0.954388\n",
       "min   -2.413800 -0.696406 -1.495318 -0.616217 -1.380211\n",
       "25%   -0.555447  0.172608 -0.668134  0.123499 -1.173087\n",
       "50%   -0.267670  0.453009 -0.373289  0.828096  0.186943\n",
       "75%    0.508116  1.113088  0.356831  0.847577  0.393020\n",
       "max    0.917564  1.286642  1.233066  1.438690  0.703752"
      ]
     },
     "execution_count": 23,
     "metadata": {},
     "output_type": "execute_result"
    }
   ],
   "source": [
    "dframe.describe()"
   ]
  },
  {
   "cell_type": "code",
   "execution_count": null,
   "metadata": {
    "collapsed": true
   },
   "outputs": [],
   "source": []
  }
 ],
 "metadata": {
  "kernelspec": {
   "display_name": "Python 3",
   "language": "python",
   "name": "python3"
  },
  "language_info": {
   "codemirror_mode": {
    "name": "ipython",
    "version": 3
   },
   "file_extension": ".py",
   "mimetype": "text/x-python",
   "name": "python",
   "nbconvert_exporter": "python",
   "pygments_lexer": "ipython3",
   "version": "3.6.1"
  }
 },
 "nbformat": 4,
 "nbformat_minor": 2
}
